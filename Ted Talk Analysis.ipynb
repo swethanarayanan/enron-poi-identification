{
 "cells": [
  {
   "cell_type": "code",
   "execution_count": 62,
   "metadata": {
    "collapsed": true
   },
   "outputs": [],
   "source": [
    "import pandas as pd\n",
    "import numpy as np"
   ]
  },
  {
   "cell_type": "code",
   "execution_count": 29,
   "metadata": {},
   "outputs": [
    {
     "data": {
      "text/plain": [
       "transcript    2467\n",
       "url           2467\n",
       "dtype: int64"
      ]
     },
     "execution_count": 29,
     "metadata": {},
     "output_type": "execute_result"
    }
   ],
   "source": [
    "transcripts=pd.read_csv(\"transcripts.csv\", encoding = \"ISO-8859-1\", usecols=['transcript', 'url'])\n",
    "transcripts = transcripts[transcripts['url'].notnull()]\n",
    "transcripts = transcripts[transcripts['transcript'].notnull()]\n",
    "transcripts.count()"
   ]
  },
  {
   "cell_type": "code",
   "execution_count": 43,
   "metadata": {},
   "outputs": [
    {
     "data": {
      "text/plain": [
       "transcript    2467\n",
       "url           2467\n",
       "title         2467\n",
       "dtype: int64"
      ]
     },
     "execution_count": 43,
     "metadata": {},
     "output_type": "execute_result"
    }
   ],
   "source": [
    "transcripts['title']=transcripts['url'].map(lambda x:x.split(\"/\")[-1])\n",
    "transcripts.count()"
   ]
  },
  {
   "cell_type": "markdown",
   "metadata": {},
   "source": [
    "At this point We are ready to begin piecing together the components that will help us build a talk recommender. In order to achieve this I had to:\n",
    "\n",
    "Create a vector representation of each transcript.\n",
    "Create a similarity matrix for the vector representation created above.\n",
    "For each talk, based on some similarity metric, select 4 most similar talks."
   ]
  },
  {
   "cell_type": "markdown",
   "metadata": {},
   "source": [
    "Since our final goal is to recommend talks based on the similarity of their content, the first thing we will have to do is to, create a representation of the transcripts that are amenable to comparison. One way of doing this is to create a tfidf vector for each transcript"
   ]
  },
  {
   "cell_type": "markdown",
   "metadata": {},
   "source": [
    "To represent text, we will think of each transcript as one \"Document\" and the set of all documents as a \"Corpus\". Then we will create a vector representing the count of words that occur in each document, something like this:"
   ]
  },
  {
   "cell_type": "code",
   "execution_count": 31,
   "metadata": {
    "collapsed": true
   },
   "outputs": [],
   "source": [
    "from sklearn.feature_extraction import text\n",
    "Text=transcripts['transcript'].tolist()\n",
    "tfidf=text.TfidfVectorizer(input=Text,stop_words=\"english\")\n",
    "matrix=tfidf.fit_transform(Text)"
   ]
  },
  {
   "cell_type": "markdown",
   "metadata": {},
   "source": [
    "To find out similar documents among different documents, we will need to compute a measure of similarity. Usually when dealing with Tf-Idf vectors, we use $cosine$ similarity. Think of $cosine$ similarity as measuring how close one TF-Idf vector is from the other. "
   ]
  },
  {
   "cell_type": "code",
   "execution_count": 66,
   "metadata": {},
   "outputs": [],
   "source": [
    "from sklearn.metrics.pairwise import cosine_similarity\n",
    "sim_unigram=cosine_similarity(matrix)"
   ]
  },
  {
   "cell_type": "markdown",
   "metadata": {},
   "source": [
    "All we have to do now is for, each Transcript, find out the 4 most similar ones, based on cosine similarity. Algorithmically, this would amount to finding out, for each row in the cosine matrix constructed above, the index of five columns, that are most similar to the document (transcript in our case) corresponding to the respective row number. This was accomplished using a few lines of code"
   ]
  },
  {
   "cell_type": "code",
   "execution_count": 111,
   "metadata": {},
   "outputs": [],
   "source": [
    "def get_similar_articles(x):\n",
    "    title_col = transcripts['title']\n",
    "    col_labels = x.argsort()[-5:-1]\n",
    "    related_articles = title_col.loc[col_labels]\n",
    "    related_articles = related_articles.replace(np.nan, '', regex=True)\n",
    "    return \",\".join(related_articles)"
   ]
  },
  {
   "cell_type": "code",
   "execution_count": 112,
   "metadata": {},
   "outputs": [
    {
     "name": "stderr",
     "output_type": "stream",
     "text": [
      "/Users/swetha/anaconda3/lib/python3.6/site-packages/ipykernel_launcher.py:4: FutureWarning: \n",
      "Passing list-likes to .loc or [] with any missing label will raise\n",
      "KeyError in the future, you can use .reindex() as an alternative.\n",
      "\n",
      "See the documentation here:\n",
      "https://pandas.pydata.org/pandas-docs/stable/indexing.html#deprecate-loc-reindex-listlike\n",
      "  after removing the cwd from sys.path.\n"
     ]
    }
   ],
   "source": [
    "transcripts['similar_articles_unigram']=[get_similar_articles(x) for x in sim_unigram]"
   ]
  },
  {
   "cell_type": "code",
   "execution_count": 113,
   "metadata": {},
   "outputs": [
    {
     "data": {
      "text/html": [
       "<div>\n",
       "<style scoped>\n",
       "    .dataframe tbody tr th:only-of-type {\n",
       "        vertical-align: middle;\n",
       "    }\n",
       "\n",
       "    .dataframe tbody tr th {\n",
       "        vertical-align: top;\n",
       "    }\n",
       "\n",
       "    .dataframe thead th {\n",
       "        text-align: right;\n",
       "    }\n",
       "</style>\n",
       "<table border=\"1\" class=\"dataframe\">\n",
       "  <thead>\n",
       "    <tr style=\"text-align: right;\">\n",
       "      <th></th>\n",
       "      <th>transcript</th>\n",
       "      <th>url</th>\n",
       "      <th>title</th>\n",
       "      <th>similar_articles_unigram</th>\n",
       "    </tr>\n",
       "  </thead>\n",
       "  <tbody>\n",
       "    <tr>\n",
       "      <th>0</th>\n",
       "      <td>Good morning. How are you?(Laughter)It's been ...</td>\n",
       "      <td>https://www.ted.com/talks/ken_robinson_says_sc...</td>\n",
       "      <td>ken_robinson_says_schools_kill_creativity\\r</td>\n",
       "      <td>sunitha_krishnan_tedindia\\r,scott_dinsmore_how...</td>\n",
       "    </tr>\n",
       "    <tr>\n",
       "      <th>1</th>\n",
       "      <td>Thank you so much, Chris. And it's truly a gre...</td>\n",
       "      <td>https://www.ted.com/talks/al_gore_on_averting_...</td>\n",
       "      <td>al_gore_on_averting_climate_crisis\\r</td>\n",
       "      <td>kate_stafford_how_human_noise_affects_ocean_ha...</td>\n",
       "    </tr>\n",
       "    <tr>\n",
       "      <th>2</th>\n",
       "      <td>(Music: \"The Sound of Silence,\" Simon &amp; Garfun...</td>\n",
       "      <td>https://www.ted.com/talks/david_pogue_says_sim...</td>\n",
       "      <td>david_pogue_says_simplicity_sells\\r</td>\n",
       "      <td>jennifer_8_lee_looks_for_general_tso\\r,ze_fran...</td>\n",
       "    </tr>\n",
       "    <tr>\n",
       "      <th>3</th>\n",
       "      <td>If you're here today ÛÓ and I'm very happy th...</td>\n",
       "      <td>https://www.ted.com/talks/majora_carter_s_tale...</td>\n",
       "      <td>majora_carter_s_tale_of_urban_renewal\\r</td>\n",
       "      <td>rebecca_brachman_could_a_drug_prevent_depressi...</td>\n",
       "    </tr>\n",
       "    <tr>\n",
       "      <th>4</th>\n",
       "      <td>About 10 years ago, I took on the task to teac...</td>\n",
       "      <td>https://www.ted.com/talks/hans_rosling_shows_t...</td>\n",
       "      <td>hans_rosling_shows_the_best_stats_you_ve_ever_...</td>\n",
       "      <td>nathan_wolfe_what_s_left_to_explore\\r,barbara_...</td>\n",
       "    </tr>\n",
       "  </tbody>\n",
       "</table>\n",
       "</div>"
      ],
      "text/plain": [
       "                                          transcript  \\\n",
       "0  Good morning. How are you?(Laughter)It's been ...   \n",
       "1  Thank you so much, Chris. And it's truly a gre...   \n",
       "2  (Music: \"The Sound of Silence,\" Simon & Garfun...   \n",
       "3  If you're here today ÛÓ and I'm very happy th...   \n",
       "4  About 10 years ago, I took on the task to teac...   \n",
       "\n",
       "                                                 url  \\\n",
       "0  https://www.ted.com/talks/ken_robinson_says_sc...   \n",
       "1  https://www.ted.com/talks/al_gore_on_averting_...   \n",
       "2  https://www.ted.com/talks/david_pogue_says_sim...   \n",
       "3  https://www.ted.com/talks/majora_carter_s_tale...   \n",
       "4  https://www.ted.com/talks/hans_rosling_shows_t...   \n",
       "\n",
       "                                               title  \\\n",
       "0        ken_robinson_says_schools_kill_creativity\\r   \n",
       "1               al_gore_on_averting_climate_crisis\\r   \n",
       "2                david_pogue_says_simplicity_sells\\r   \n",
       "3            majora_carter_s_tale_of_urban_renewal\\r   \n",
       "4  hans_rosling_shows_the_best_stats_you_ve_ever_...   \n",
       "\n",
       "                            similar_articles_unigram  \n",
       "0  sunitha_krishnan_tedindia\\r,scott_dinsmore_how...  \n",
       "1  kate_stafford_how_human_noise_affects_ocean_ha...  \n",
       "2  jennifer_8_lee_looks_for_general_tso\\r,ze_fran...  \n",
       "3  rebecca_brachman_could_a_drug_prevent_depressi...  \n",
       "4  nathan_wolfe_what_s_left_to_explore\\r,barbara_...  "
      ]
     },
     "execution_count": 113,
     "metadata": {},
     "output_type": "execute_result"
    }
   ],
   "source": [
    "transcripts.head()"
   ]
  },
  {
   "cell_type": "code",
   "execution_count": 116,
   "metadata": {},
   "outputs": [
    {
     "data": {
      "text/plain": [
       "'AL GORE ON AVERTING CLIMATE CRISIS'"
      ]
     },
     "execution_count": 116,
     "metadata": {},
     "output_type": "execute_result"
    }
   ],
   "source": [
    "#Lets take a talk\n",
    "transcripts['title'].str.replace(\"_\",\" \").str.upper().str.strip()[1]"
   ]
  },
  {
   "cell_type": "code",
   "execution_count": 117,
   "metadata": {},
   "outputs": [
    {
     "data": {
      "text/plain": [
       "['KATE STAFFORD HOW HUMAN NOISE AFFECTS OCEAN HABITATS\\r,JENNIFER 8 LEE LOOKS FOR GENERAL TSO\\r,PAULA SCHER GETS SERIOUS\\r,AL GORE S NEW THINKING ON THE CLIMATE CRISIS']"
      ]
     },
     "execution_count": 117,
     "metadata": {},
     "output_type": "execute_result"
    }
   ],
   "source": [
    "#Most similar talks\n",
    "transcripts['similar_articles_unigram'].str.replace(\"_\",\" \").str.upper().str.strip().str.split(\"\\n\")[1]"
   ]
  },
  {
   "cell_type": "code",
   "execution_count": 120,
   "metadata": {},
   "outputs": [
    {
     "data": {
      "text/plain": [
       "'HANS ROSLING SHOWS THE BEST STATS YOU VE EVER SEEN'"
      ]
     },
     "execution_count": 120,
     "metadata": {},
     "output_type": "execute_result"
    }
   ],
   "source": [
    "#Lets take a talk\n",
    "transcripts['title'].str.replace(\"_\",\" \").str.upper().str.strip()[4]"
   ]
  },
  {
   "cell_type": "code",
   "execution_count": 121,
   "metadata": {},
   "outputs": [
    {
     "data": {
      "text/plain": [
       "['NATHAN WOLFE WHAT S LEFT TO EXPLORE\\r,BARBARA BLOCK TAGGING TUNA IN THE DEEP OCEAN\\r,HANS ROSLING REVEALS NEW INSIGHTS ON POVERTY\\r,ERIC GILER DEMOS WIRELESS ELECTRICITY']"
      ]
     },
     "execution_count": 121,
     "metadata": {},
     "output_type": "execute_result"
    }
   ],
   "source": [
    "#Most similar talks\n",
    "transcripts['similar_articles_unigram'].str.replace(\"_\",\" \").str.upper().str.strip().str.split(\"\\n\")[4]"
   ]
  },
  {
   "cell_type": "markdown",
   "metadata": {},
   "source": [
    "Credits for this analysis : https://github.com/Gunnvant/ted_talks/blob/master/BlogMarch18.ipynb"
   ]
  },
  {
   "cell_type": "code",
   "execution_count": null,
   "metadata": {
    "collapsed": true
   },
   "outputs": [],
   "source": []
  }
 ],
 "metadata": {
  "kernelspec": {
   "display_name": "Python 3",
   "language": "python",
   "name": "python3"
  },
  "language_info": {
   "codemirror_mode": {
    "name": "ipython",
    "version": 3
   },
   "file_extension": ".py",
   "mimetype": "text/x-python",
   "name": "python",
   "nbconvert_exporter": "python",
   "pygments_lexer": "ipython3",
   "version": "3.6.3"
  }
 },
 "nbformat": 4,
 "nbformat_minor": 2
}
